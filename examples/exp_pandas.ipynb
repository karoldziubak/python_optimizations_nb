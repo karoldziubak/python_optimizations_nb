{
 "cells": [
  {
   "cell_type": "code",
   "execution_count": 1,
   "id": "1bb1b83b",
   "metadata": {},
   "outputs": [
    {
     "name": "stdout",
     "output_type": "stream",
     "text": [
      "  Team League  Year   RS   RA   W    OBP    SLG     BA  Playoffs  RankSeason  \\\n",
      "0  ARI     NL  2012  734  688  81  0.328  0.418  0.259         0         NaN   \n",
      "1  ATL     NL  2012  700  600  94  0.320  0.389  0.247         1         4.0   \n",
      "2  BAL     AL  2012  712  705  93  0.311  0.417  0.247         1         5.0   \n",
      "3  BOS     AL  2012  734  806  69  0.315  0.415  0.260         0         NaN   \n",
      "4  CHC     NL  2012  613  759  61  0.302  0.378  0.240         0         NaN   \n",
      "\n",
      "   RankPlayoffs    G   OOBP   OSLG  \n",
      "0           NaN  162  0.317  0.415  \n",
      "1           5.0  162  0.306  0.378  \n",
      "2           4.0  162  0.315  0.403  \n",
      "3           NaN  162  0.331  0.428  \n",
      "4           NaN  162  0.335  0.424  \n"
     ]
    }
   ],
   "source": [
    "import pandas as pd\n",
    "import numpy as np\n",
    "\n",
    "baseball_df = pd.read_csv('https://assets.datacamp.com/production/repositories/3581/datasets/779033fb8fb5021aee9ff46253980abcbc5851f3/baseball_stats.csv')\n",
    "print(baseball_df.head())"
   ]
  },
  {
   "cell_type": "markdown",
   "id": "45ed4b69",
   "metadata": {},
   "source": [
    "Column Team have Teams names:\n",
    "\n",
    "ARI - Arizona Diamondbacks\\\n",
    "ATL - Atlanta Braves\\\n",
    "BAL - Baltimore Orioles\\\n",
    "BOS - Boston Red Sox\\\n",
    "CHC - Chicago Cubs\n",
    "\n",
    "W - wins\n",
    "\n",
    "G - games"
   ]
  },
  {
   "cell_type": "code",
   "execution_count": 2,
   "id": "10196b24",
   "metadata": {},
   "outputs": [
    {
     "data": {
      "text/html": [
       "<div>\n",
       "<style scoped>\n",
       "    .dataframe tbody tr th:only-of-type {\n",
       "        vertical-align: middle;\n",
       "    }\n",
       "\n",
       "    .dataframe tbody tr th {\n",
       "        vertical-align: top;\n",
       "    }\n",
       "\n",
       "    .dataframe thead th {\n",
       "        text-align: right;\n",
       "    }\n",
       "</style>\n",
       "<table border=\"1\" class=\"dataframe\">\n",
       "  <thead>\n",
       "    <tr style=\"text-align: right;\">\n",
       "      <th></th>\n",
       "      <th>Year</th>\n",
       "      <th>RS</th>\n",
       "      <th>RA</th>\n",
       "      <th>W</th>\n",
       "      <th>OBP</th>\n",
       "      <th>SLG</th>\n",
       "      <th>BA</th>\n",
       "      <th>Playoffs</th>\n",
       "      <th>RankSeason</th>\n",
       "      <th>RankPlayoffs</th>\n",
       "      <th>G</th>\n",
       "      <th>OOBP</th>\n",
       "      <th>OSLG</th>\n",
       "    </tr>\n",
       "  </thead>\n",
       "  <tbody>\n",
       "    <tr>\n",
       "      <th>count</th>\n",
       "      <td>1232.000000</td>\n",
       "      <td>1232.000000</td>\n",
       "      <td>1232.000000</td>\n",
       "      <td>1232.000000</td>\n",
       "      <td>1232.000000</td>\n",
       "      <td>1232.000000</td>\n",
       "      <td>1232.000000</td>\n",
       "      <td>1232.000000</td>\n",
       "      <td>244.000000</td>\n",
       "      <td>244.000000</td>\n",
       "      <td>1232.000000</td>\n",
       "      <td>420.000000</td>\n",
       "      <td>420.000000</td>\n",
       "    </tr>\n",
       "    <tr>\n",
       "      <th>mean</th>\n",
       "      <td>1988.957792</td>\n",
       "      <td>715.081981</td>\n",
       "      <td>715.081981</td>\n",
       "      <td>80.904221</td>\n",
       "      <td>0.326331</td>\n",
       "      <td>0.397342</td>\n",
       "      <td>0.259273</td>\n",
       "      <td>0.198052</td>\n",
       "      <td>3.122951</td>\n",
       "      <td>2.717213</td>\n",
       "      <td>161.918831</td>\n",
       "      <td>0.332264</td>\n",
       "      <td>0.419743</td>\n",
       "    </tr>\n",
       "    <tr>\n",
       "      <th>std</th>\n",
       "      <td>14.819625</td>\n",
       "      <td>91.534294</td>\n",
       "      <td>93.079933</td>\n",
       "      <td>11.458139</td>\n",
       "      <td>0.015013</td>\n",
       "      <td>0.033267</td>\n",
       "      <td>0.012907</td>\n",
       "      <td>0.398693</td>\n",
       "      <td>1.738349</td>\n",
       "      <td>1.095234</td>\n",
       "      <td>0.624365</td>\n",
       "      <td>0.015295</td>\n",
       "      <td>0.026510</td>\n",
       "    </tr>\n",
       "    <tr>\n",
       "      <th>min</th>\n",
       "      <td>1962.000000</td>\n",
       "      <td>463.000000</td>\n",
       "      <td>472.000000</td>\n",
       "      <td>40.000000</td>\n",
       "      <td>0.277000</td>\n",
       "      <td>0.301000</td>\n",
       "      <td>0.214000</td>\n",
       "      <td>0.000000</td>\n",
       "      <td>1.000000</td>\n",
       "      <td>1.000000</td>\n",
       "      <td>158.000000</td>\n",
       "      <td>0.294000</td>\n",
       "      <td>0.346000</td>\n",
       "    </tr>\n",
       "    <tr>\n",
       "      <th>25%</th>\n",
       "      <td>1976.750000</td>\n",
       "      <td>652.000000</td>\n",
       "      <td>649.750000</td>\n",
       "      <td>73.000000</td>\n",
       "      <td>0.317000</td>\n",
       "      <td>0.375000</td>\n",
       "      <td>0.251000</td>\n",
       "      <td>0.000000</td>\n",
       "      <td>2.000000</td>\n",
       "      <td>2.000000</td>\n",
       "      <td>162.000000</td>\n",
       "      <td>0.321000</td>\n",
       "      <td>0.401000</td>\n",
       "    </tr>\n",
       "    <tr>\n",
       "      <th>50%</th>\n",
       "      <td>1989.000000</td>\n",
       "      <td>711.000000</td>\n",
       "      <td>709.000000</td>\n",
       "      <td>81.000000</td>\n",
       "      <td>0.326000</td>\n",
       "      <td>0.396000</td>\n",
       "      <td>0.260000</td>\n",
       "      <td>0.000000</td>\n",
       "      <td>3.000000</td>\n",
       "      <td>3.000000</td>\n",
       "      <td>162.000000</td>\n",
       "      <td>0.331000</td>\n",
       "      <td>0.419000</td>\n",
       "    </tr>\n",
       "    <tr>\n",
       "      <th>75%</th>\n",
       "      <td>2002.000000</td>\n",
       "      <td>775.000000</td>\n",
       "      <td>774.250000</td>\n",
       "      <td>89.000000</td>\n",
       "      <td>0.337000</td>\n",
       "      <td>0.421000</td>\n",
       "      <td>0.268000</td>\n",
       "      <td>0.000000</td>\n",
       "      <td>4.000000</td>\n",
       "      <td>4.000000</td>\n",
       "      <td>162.000000</td>\n",
       "      <td>0.343000</td>\n",
       "      <td>0.438000</td>\n",
       "    </tr>\n",
       "    <tr>\n",
       "      <th>max</th>\n",
       "      <td>2012.000000</td>\n",
       "      <td>1009.000000</td>\n",
       "      <td>1103.000000</td>\n",
       "      <td>116.000000</td>\n",
       "      <td>0.373000</td>\n",
       "      <td>0.491000</td>\n",
       "      <td>0.294000</td>\n",
       "      <td>1.000000</td>\n",
       "      <td>8.000000</td>\n",
       "      <td>5.000000</td>\n",
       "      <td>165.000000</td>\n",
       "      <td>0.384000</td>\n",
       "      <td>0.499000</td>\n",
       "    </tr>\n",
       "  </tbody>\n",
       "</table>\n",
       "</div>"
      ],
      "text/plain": [
       "              Year           RS           RA            W          OBP  \\\n",
       "count  1232.000000  1232.000000  1232.000000  1232.000000  1232.000000   \n",
       "mean   1988.957792   715.081981   715.081981    80.904221     0.326331   \n",
       "std      14.819625    91.534294    93.079933    11.458139     0.015013   \n",
       "min    1962.000000   463.000000   472.000000    40.000000     0.277000   \n",
       "25%    1976.750000   652.000000   649.750000    73.000000     0.317000   \n",
       "50%    1989.000000   711.000000   709.000000    81.000000     0.326000   \n",
       "75%    2002.000000   775.000000   774.250000    89.000000     0.337000   \n",
       "max    2012.000000  1009.000000  1103.000000   116.000000     0.373000   \n",
       "\n",
       "               SLG           BA     Playoffs  RankSeason  RankPlayoffs  \\\n",
       "count  1232.000000  1232.000000  1232.000000  244.000000    244.000000   \n",
       "mean      0.397342     0.259273     0.198052    3.122951      2.717213   \n",
       "std       0.033267     0.012907     0.398693    1.738349      1.095234   \n",
       "min       0.301000     0.214000     0.000000    1.000000      1.000000   \n",
       "25%       0.375000     0.251000     0.000000    2.000000      2.000000   \n",
       "50%       0.396000     0.260000     0.000000    3.000000      3.000000   \n",
       "75%       0.421000     0.268000     0.000000    4.000000      4.000000   \n",
       "max       0.491000     0.294000     1.000000    8.000000      5.000000   \n",
       "\n",
       "                 G        OOBP        OSLG  \n",
       "count  1232.000000  420.000000  420.000000  \n",
       "mean    161.918831    0.332264    0.419743  \n",
       "std       0.624365    0.015295    0.026510  \n",
       "min     158.000000    0.294000    0.346000  \n",
       "25%     162.000000    0.321000    0.401000  \n",
       "50%     162.000000    0.331000    0.419000  \n",
       "75%     162.000000    0.343000    0.438000  \n",
       "max     165.000000    0.384000    0.499000  "
      ]
     },
     "execution_count": 2,
     "metadata": {},
     "output_type": "execute_result"
    }
   ],
   "source": [
    "baseball_df.describe()"
   ]
  },
  {
   "cell_type": "code",
   "execution_count": 3,
   "id": "dab54e90",
   "metadata": {},
   "outputs": [
    {
     "name": "stdout",
     "output_type": "stream",
     "text": [
      "Team ['ARI' 'ATL' 'BAL' 'BOS' 'CHC' 'CHW' 'CIN' 'CLE' 'COL' 'DET' 'HOU' 'KCR'\n",
      " 'LAA' 'LAD' 'MIA' 'MIL' 'MIN' 'NYM' 'NYY' 'OAK' 'PHI' 'PIT' 'SDP' 'SEA'\n",
      " 'SFG' 'STL' 'TBR' 'TEX' 'TOR' 'WSN' 'FLA' 'TBD' 'ANA' 'MON' 'CAL' 'WSA'\n",
      " 'SEP' 'KCA' 'MLN'] 39\n",
      "League ['NL' 'AL'] 2\n",
      "Year [2012 2011 2010 2009 2008 2007 2006 2005 2004 2003 2002 2001 2000 1999\n",
      " 1998 1997 1996 1993 1992 1991 1990 1989 1988 1987 1986 1985 1984 1983\n",
      " 1982 1980 1979 1978 1977 1976 1975 1974 1973 1971 1970 1969 1968 1967\n",
      " 1966 1965 1964 1963 1962] 47\n"
     ]
    }
   ],
   "source": [
    "# Show unique values in each non-numeric column\n",
    "cols = ['Team', 'League', 'Year']\n",
    "for col in cols:\n",
    "    print(col, baseball_df[col].unique(), baseball_df[col].nunique())"
   ]
  },
  {
   "cell_type": "markdown",
   "id": "b38b7fbf",
   "metadata": {},
   "source": [
    "# winrate via iloc and iterrows"
   ]
  },
  {
   "cell_type": "code",
   "execution_count": 4,
   "id": "e7c00619",
   "metadata": {},
   "outputs": [],
   "source": [
    "def calc_winrate(wins, games):\n",
    "    return np.round(wins / games,3)"
   ]
  },
  {
   "cell_type": "code",
   "execution_count": null,
   "id": "6e90413c",
   "metadata": {},
   "outputs": [],
   "source": [
    "# For loop with iloc\n",
    "win_perc_list = []\n",
    "df3 = baseball_df.copy()\n",
    "for i in range(len(df3)):\n",
    "    row = df3.iloc[i]\n",
    "    wins = row['W']\n",
    "    games_played = row['G']\n",
    "    win_perc = calc_winrate(wins, games_played)\n",
    "    win_perc_list.append(win_perc)\n",
    "df3['Winrate'] = win_perc_list\n",
    "\n",
    "# For loop with iterrows\n",
    "win_perc_list2 = []\n",
    "df4 = baseball_df.copy()\n",
    "for i,row in df4.iterrows():\n",
    "    wins = row['W']\n",
    "    games_played = row['G']\n",
    "    win_perc = calc_winrate(wins, games_played)\n",
    "    win_perc_list2.append(win_perc)\n",
    "df4['Winrate'] = win_perc_list2\n",
    "\n",
    "# apply lambda\n",
    "df5 = baseball_df.copy()\n",
    "df5['Winrate'] = df5.apply(lambda row: calc_winrate(row['W'], row['G']), axis=1)\n",
    "\n",
    "# Vectorized\n",
    "df2 = baseball_df.copy()\n",
    "df2['Winrate'] = np.round(df2['W'] / df2['G'],3)"
   ]
  },
  {
   "cell_type": "code",
   "execution_count": 14,
   "id": "884235d4",
   "metadata": {},
   "outputs": [
    {
     "name": "stdout",
     "output_type": "stream",
     "text": [
      "48.9 ms ± 785 μs per loop (mean ± std. dev. of 10 runs, 50 loops each)\n"
     ]
    }
   ],
   "source": [
    "%%timeit -r10 -n50\n",
    "\n",
    "win_perc_list = []\n",
    "df3 = baseball_df.copy()\n",
    "for i in range(len(df3)):\n",
    "    row = df3.iloc[i]\n",
    "    wins = row['W']\n",
    "    games_played = row['G']\n",
    "    win_perc = calc_winrate(wins, games_played)\n",
    "    win_perc_list.append(win_perc)\n",
    "df3['Winrate'] = win_perc_list"
   ]
  },
  {
   "cell_type": "code",
   "execution_count": 13,
   "id": "20d02dc3",
   "metadata": {},
   "outputs": [
    {
     "name": "stdout",
     "output_type": "stream",
     "text": [
      "43.6 ms ± 409 μs per loop (mean ± std. dev. of 10 runs, 50 loops each)\n"
     ]
    }
   ],
   "source": [
    "%%timeit -r10 -n50\n",
    "\n",
    "win_perc_list2 = []\n",
    "df4 = baseball_df.copy()\n",
    "for i,row in df4.iterrows():\n",
    "    wins = row['W']\n",
    "    games_played = row['G']\n",
    "    win_perc = calc_winrate(wins, games_played)\n",
    "    win_perc_list2.append(win_perc)\n",
    "df4['Winrate'] = win_perc_list2"
   ]
  },
  {
   "cell_type": "code",
   "execution_count": 15,
   "id": "bbf7eb4a",
   "metadata": {},
   "outputs": [
    {
     "name": "stdout",
     "output_type": "stream",
     "text": [
      "13.1 ms ± 164 μs per loop (mean ± std. dev. of 10 runs, 50 loops each)\n"
     ]
    }
   ],
   "source": [
    "%%timeit -r10 -n50\n",
    "df5 = baseball_df.copy()\n",
    "df5['Winrate'] = df5.apply(lambda row: calc_winrate(row['W'], row['G']), axis=1)"
   ]
  },
  {
   "cell_type": "code",
   "execution_count": 18,
   "id": "f49d1d97",
   "metadata": {},
   "outputs": [
    {
     "name": "stdout",
     "output_type": "stream",
     "text": [
      "241 μs ± 15.5 μs per loop (mean ± std. dev. of 10 runs, 50 loops each)\n"
     ]
    }
   ],
   "source": [
    "%%timeit -r10 -n50\n",
    "df2 = baseball_df.copy()\n",
    "df2['Winrate'] = np.round(df2['W'] / df2['G'],3)"
   ]
  },
  {
   "cell_type": "code",
   "execution_count": 27,
   "id": "2a3ab07f",
   "metadata": {},
   "outputs": [
    {
     "name": "stdout",
     "output_type": "stream",
     "text": [
      "180 μs ± 19.7 μs per loop (mean ± std. dev. of 10 runs, 50 loops each)\n"
     ]
    }
   ],
   "source": [
    "%%timeit -r10 -n50\n",
    "df6 = baseball_df.copy()\n",
    "df6['Winrate'] = np.round(df6['W'].values / df6['G'].values,3)"
   ]
  },
  {
   "cell_type": "code",
   "execution_count": 9,
   "id": "5590a4f1",
   "metadata": {},
   "outputs": [
    {
     "name": "stdout",
     "output_type": "stream",
     "text": [
      "True\n",
      "True\n",
      "True\n"
     ]
    }
   ],
   "source": [
    "# check if results are the same\n",
    "print(df2['Winrate'].equals(df3['Winrate']))\n",
    "print(df2['Winrate'].equals(df4['Winrate']))\n",
    "print(df3['Winrate'].equals(df4['Winrate']))"
   ]
  }
 ],
 "metadata": {
  "kernelspec": {
   "display_name": ".venv",
   "language": "python",
   "name": "python3"
  },
  "language_info": {
   "codemirror_mode": {
    "name": "ipython",
    "version": 3
   },
   "file_extension": ".py",
   "mimetype": "text/x-python",
   "name": "python",
   "nbconvert_exporter": "python",
   "pygments_lexer": "ipython3",
   "version": "3.10.5"
  }
 },
 "nbformat": 4,
 "nbformat_minor": 5
}
