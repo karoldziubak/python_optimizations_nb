{
 "cells": [
  {
   "cell_type": "markdown",
   "id": "b7c04b5f",
   "metadata": {},
   "source": [
    "# Zen of Python\n",
    "The Zen of Python is a collection of 19 \"guiding principles\" for writing computer programs that influence the design of the Python programming language. Python code that aligns with these principles is often referred to as \"Pythonic\"."
   ]
  },
  {
   "cell_type": "code",
   "execution_count": 1,
   "id": "3bf25d36",
   "metadata": {},
   "outputs": [
    {
     "name": "stdout",
     "output_type": "stream",
     "text": [
      "The Zen of Python, by Tim Peters\n",
      "\n",
      "Beautiful is better than ugly.\n",
      "Explicit is better than implicit.\n",
      "Simple is better than complex.\n",
      "Complex is better than complicated.\n",
      "Flat is better than nested.\n",
      "Sparse is better than dense.\n",
      "Readability counts.\n",
      "Special cases aren't special enough to break the rules.\n",
      "Although practicality beats purity.\n",
      "Errors should never pass silently.\n",
      "Unless explicitly silenced.\n",
      "In the face of ambiguity, refuse the temptation to guess.\n",
      "There should be one-- and preferably only one --obvious way to do it.\n",
      "Although that way may not be obvious at first unless you're Dutch.\n",
      "Now is better than never.\n",
      "Although never is often better than *right* now.\n",
      "If the implementation is hard to explain, it's a bad idea.\n",
      "If the implementation is easy to explain, it may be a good idea.\n",
      "Namespaces are one honking great idea -- let's do more of those!\n"
     ]
    }
   ],
   "source": [
    "import this"
   ]
  },
  {
   "cell_type": "markdown",
   "id": "063790b4",
   "metadata": {},
   "source": [
    "# Examples of **Pythonic** code with basic built-in functions"
   ]
  },
  {
   "cell_type": "markdown",
   "id": "9f6ed59b",
   "metadata": {},
   "source": [
    "## Create data structures using formal naming conventions and literal syntax"
   ]
  },
  {
   "cell_type": "code",
   "execution_count": 71,
   "id": "0b733c87",
   "metadata": {},
   "outputs": [
    {
     "name": "stdout",
     "output_type": "stream",
     "text": [
      "Lists:\n",
      "37.7 ns ± 1.38 ns per loop (mean ± std. dev. of 10 runs, 1,000,000 loops each)\n",
      "15.9 ns ± 0.526 ns per loop (mean ± std. dev. of 10 runs, 1,000,000 loops each)\n",
      "Dictionaries:\n",
      "44 ns ± 2.2 ns per loop (mean ± std. dev. of 10 runs, 1,000,000 loops each)\n",
      "15.8 ns ± 0.385 ns per loop (mean ± std. dev. of 10 runs, 1,000,000 loops each)\n",
      "Sets:\n",
      "44.6 ns ± 0.441 ns per loop (mean ± std. dev. of 10 runs, 1,000,000 loops each)\n",
      "15.8 ns ± 0.299 ns per loop (mean ± std. dev. of 10 runs, 1,000,000 loops each)\n",
      "Tuples:\n",
      "22.3 ns ± 0.872 ns per loop (mean ± std. dev. of 10 runs, 1,000,000 loops each)\n",
      "5.35 ns ± 0.664 ns per loop (mean ± std. dev. of 10 runs, 1,000,000 loops each)\n",
      "Strings:\n",
      "27.3 ns ± 0.62 ns per loop (mean ± std. dev. of 10 runs, 1,000,000 loops each)\n",
      "5.68 ns ± 0.412 ns per loop (mean ± std. dev. of 10 runs, 1,000,000 loops each)\n",
      "Integers:\n",
      "30.3 ns ± 1.32 ns per loop (mean ± std. dev. of 10 runs, 1,000,000 loops each)\n",
      "5.79 ns ± 0.232 ns per loop (mean ± std. dev. of 10 runs, 1,000,000 loops each)\n",
      "Floats:\n",
      "26.5 ns ± 1.13 ns per loop (mean ± std. dev. of 10 runs, 1,000,000 loops each)\n",
      "5.38 ns ± 0.372 ns per loop (mean ± std. dev. of 10 runs, 1,000,000 loops each)\n",
      "Booleans:\n",
      "23.9 ns ± 0.602 ns per loop (mean ± std. dev. of 10 runs, 1,000,000 loops each)\n",
      "5.36 ns ± 0.35 ns per loop (mean ± std. dev. of 10 runs, 1,000,000 loops each)\n"
     ]
    }
   ],
   "source": [
    "print('Lists:')\n",
    "%timeit -r10 -n1000000 list()\n",
    "%timeit -r10 -n1000000 []\n",
    "\n",
    "print('Dictionaries:')\n",
    "%timeit -r10 -n1000000 dict()\n",
    "%timeit -r10 -n1000000 {}\n",
    "\n",
    "print('Sets:')\n",
    "%timeit -r10 -n1000000 set()\n",
    "%timeit -r10 -n1000000 {}\n",
    "\n",
    "print('Tuples:')\n",
    "%timeit -r10 -n1000000 tuple()\n",
    "%timeit -r10 -n1000000 ()\n",
    "\n",
    "print('Strings:')\n",
    "%timeit -r10 -n1000000 str()\n",
    "%timeit -r10 -n1000000 ''\n",
    "\n",
    "print('Integers:')\n",
    "%timeit -r10 -n1000000 int()\n",
    "%timeit -r10 -n1000000 0\n",
    "\n",
    "print('Floats:')\n",
    "%timeit -r10 -n1000000 float()\n",
    "%timeit -r10 -n1000000 0.0\n",
    "\n",
    "print('Booleans:')\n",
    "%timeit -r10 -n1000000 bool()\n",
    "%timeit -r10 -n1000000 False\n",
    "\n"
   ]
  },
  {
   "cell_type": "markdown",
   "id": "fa27bca7",
   "metadata": {},
   "source": [
    "## Create a list of numbers from 0 to 9:"
   ]
  },
  {
   "cell_type": "code",
   "execution_count": 75,
   "id": "1ca6ac91",
   "metadata": {},
   "outputs": [
    {
     "name": "stdout",
     "output_type": "stream",
     "text": [
      "[0, 1, 2, 3, 4, 5, 6, 7, 8, 9]\n",
      "[0, 1, 2, 3, 4, 5, 6, 7, 8, 9]\n",
      "[0, 1, 2, 3, 4, 5, 6, 7, 8, 9]\n"
     ]
    }
   ],
   "source": [
    "# Non-Pythonic code\n",
    "numbers = []\n",
    "for i in range(10):\n",
    "    numbers.append(i)\n",
    "print(numbers)\n",
    "\n",
    "# Better code\n",
    "numbers = [num for num in range(10)]\n",
    "print(numbers)\n",
    "\n",
    "# Pythonic code\n",
    "numbers = [*range(10)]\n",
    "print(numbers)"
   ]
  },
  {
   "cell_type": "markdown",
   "id": "a9f6803e",
   "metadata": {},
   "source": [
    "Speed comparison:"
   ]
  },
  {
   "cell_type": "code",
   "execution_count": 56,
   "id": "9b5bde64",
   "metadata": {},
   "outputs": [
    {
     "name": "stdout",
     "output_type": "stream",
     "text": [
      "452 ns ± 11.5 ns per loop (mean ± std. dev. of 10 runs, 1,000,000 loops each)\n"
     ]
    }
   ],
   "source": [
    "%%timeit -r10 -n1000000\n",
    "numbers = []\n",
    "for i in range(10):\n",
    "    numbers.append(i)"
   ]
  },
  {
   "cell_type": "code",
   "execution_count": 76,
   "id": "a1f7198e",
   "metadata": {},
   "outputs": [
    {
     "name": "stdout",
     "output_type": "stream",
     "text": [
      "371 ns ± 10.5 ns per loop (mean ± std. dev. of 10 runs, 1,000,000 loops each)\n"
     ]
    }
   ],
   "source": [
    "%timeit -r10 -n1000000 numbers = [num for num in range(10)]"
   ]
  },
  {
   "cell_type": "code",
   "execution_count": 77,
   "id": "41db6207",
   "metadata": {},
   "outputs": [
    {
     "name": "stdout",
     "output_type": "stream",
     "text": [
      "159 ns ± 6.34 ns per loop (mean ± std. dev. of 10 runs, 1,000,000 loops each)\n"
     ]
    }
   ],
   "source": [
    "%timeit -r10 -n1000000 numbers = [*range(10)]"
   ]
  },
  {
   "cell_type": "markdown",
   "id": "324a47e9",
   "metadata": {},
   "source": [
    "Using `[*range(10)]` is simple, easy to read, short and almost three times faster in execution time than the `for` loop and two times faster than the list comprehension."
   ]
  },
  {
   "cell_type": "markdown",
   "id": "a5ea0029",
   "metadata": {},
   "source": [
    "## Double the numbers in the above list:"
   ]
  },
  {
   "cell_type": "code",
   "execution_count": 3,
   "id": "dee6680a",
   "metadata": {},
   "outputs": [
    {
     "name": "stdout",
     "output_type": "stream",
     "text": [
      "[0, 2, 4, 6, 8, 10, 12, 14, 16, 18]\n",
      "[0, 2, 4, 6, 8, 10, 12, 14, 16, 18]\n"
     ]
    }
   ],
   "source": [
    "# Non-Pythonic code\n",
    "doubled_numbers = []\n",
    "for i in range(len(numbers)):\n",
    "    doubled_numbers.append(numbers[i] * 2)\n",
    "print(doubled_numbers)\n",
    "\n",
    "# Pythonic code\n",
    "doubled_numbers = [number * 2 for number in numbers]\n",
    "print(doubled_numbers)"
   ]
  },
  {
   "cell_type": "markdown",
   "id": "0f3890fa",
   "metadata": {},
   "source": [
    "Speed comparison:"
   ]
  },
  {
   "cell_type": "code",
   "execution_count": 60,
   "id": "3a2c92e6",
   "metadata": {},
   "outputs": [
    {
     "name": "stdout",
     "output_type": "stream",
     "text": [
      "734 ns ± 9.24 ns per loop (mean ± std. dev. of 10 runs, 1,000,000 loops each)\n"
     ]
    }
   ],
   "source": [
    "%%timeit -r10 -n1000000\n",
    "doubled_numbers = []\n",
    "for i in range(len(numbers)):\n",
    "    doubled_numbers.append(numbers[i] * 2)"
   ]
  },
  {
   "cell_type": "code",
   "execution_count": 61,
   "id": "cb769d6c",
   "metadata": {},
   "outputs": [
    {
     "name": "stdout",
     "output_type": "stream",
     "text": [
      "386 ns ± 6.89 ns per loop (mean ± std. dev. of 10 runs, 1,000,000 loops each)\n"
     ]
    }
   ],
   "source": [
    "%%timeit -r10 -n1000000\n",
    "doubled_numbers = [number * 2 for number in numbers]"
   ]
  },
  {
   "cell_type": "markdown",
   "id": "32ae76d9",
   "metadata": {},
   "source": [
    "Again, not only is the code shorter and easier to read, but it is also two times faster in execution time."
   ]
  },
  {
   "cell_type": "markdown",
   "id": "002cda63",
   "metadata": {},
   "source": [
    "## Create a list of tuples of the form (index, name):"
   ]
  },
  {
   "cell_type": "code",
   "execution_count": 4,
   "id": "e8064f8b",
   "metadata": {},
   "outputs": [
    {
     "name": "stdout",
     "output_type": "stream",
     "text": [
      "[(0, 'Jerry'), (1, 'Kramer'), (2, 'Elaine'), (3, 'George'), (4, 'Newman')]\n",
      "[(0, 'Jerry'), (1, 'Kramer'), (2, 'Elaine'), (3, 'George'), (4, 'Newman')]\n",
      "[(0, 'Jerry'), (1, 'Kramer'), (2, 'Elaine'), (3, 'George'), (4, 'Newman')]\n"
     ]
    }
   ],
   "source": [
    "names = ['Jerry', 'Kramer', 'Elaine', 'George', 'Newman']\n",
    "# Non-Pythonic code\n",
    "indexed_names = []\n",
    "for i, name in enumerate(names):\n",
    "    index_name = (i,name)\n",
    "    indexed_names.append(index_name) \n",
    "print(indexed_names)\n",
    "\n",
    "# Better code\n",
    "indexed_names_comp = [(i,name) for i,name in enumerate(names)]\n",
    "print(indexed_names_comp)\n",
    "\n",
    "# Pythonic code\n",
    "indexed_names_unpack = [*enumerate(names, 0)]\n",
    "print(indexed_names_unpack)"
   ]
  },
  {
   "cell_type": "markdown",
   "id": "dbd2cebb",
   "metadata": {},
   "source": [
    "## Collect the names in the above list that have six letters or more:"
   ]
  },
  {
   "cell_type": "code",
   "execution_count": 7,
   "id": "f85cf4ce",
   "metadata": {},
   "outputs": [
    {
     "name": "stdout",
     "output_type": "stream",
     "text": [
      "['Kramer', 'Elaine', 'George', 'Newman']\n",
      "['Kramer', 'Elaine', 'George', 'Newman']\n",
      "['Kramer', 'Elaine', 'George', 'Newman']\n"
     ]
    }
   ],
   "source": [
    "# Non-Pythonic code\n",
    "i = 0\n",
    "new_list= []\n",
    "while i < len(names):\n",
    "    if len(names[i]) >= 6:\n",
    "        new_list.append(names[i])\n",
    "    i += 1\n",
    "print(new_list)\n",
    "\n",
    "# Better code\n",
    "better_list = []\n",
    "for name in names:\n",
    "    if len(name) >= 6:\n",
    "        better_list.append(name)\n",
    "print(better_list)\n",
    "\n",
    "# Pythonic code\n",
    "best_list = [name for name in names if len(name) >= 6]\n",
    "print(best_list)"
   ]
  },
  {
   "cell_type": "markdown",
   "id": "e87a6ac6",
   "metadata": {},
   "source": [
    "Speed comparison:"
   ]
  },
  {
   "cell_type": "code",
   "execution_count": 62,
   "id": "f69521cd",
   "metadata": {},
   "outputs": [
    {
     "name": "stdout",
     "output_type": "stream",
     "text": [
      "671 ns ± 19.3 ns per loop (mean ± std. dev. of 10 runs, 1,000,000 loops each)\n"
     ]
    }
   ],
   "source": [
    "%%timeit -r10 -n1000000\n",
    "i = 0\n",
    "new_list= []\n",
    "while i < len(names):\n",
    "    if len(names[i]) >= 6:\n",
    "        new_list.append(names[i])\n",
    "    i += 1"
   ]
  },
  {
   "cell_type": "code",
   "execution_count": 63,
   "id": "90f19704",
   "metadata": {},
   "outputs": [
    {
     "name": "stdout",
     "output_type": "stream",
     "text": [
      "309 ns ± 10.1 ns per loop (mean ± std. dev. of 10 runs, 1,000,000 loops each)\n"
     ]
    }
   ],
   "source": [
    "%%timeit -r10 -n1000000\n",
    "best_list = [name for name in names if len(name) >= 6]"
   ]
  },
  {
   "cell_type": "markdown",
   "id": "5b1a6407",
   "metadata": {},
   "source": [
    "## Convert all the names in the above list to uppercase:"
   ]
  },
  {
   "cell_type": "code",
   "execution_count": 53,
   "id": "fb26b367",
   "metadata": {},
   "outputs": [
    {
     "name": "stdout",
     "output_type": "stream",
     "text": [
      "['JERRY', 'KRAMER', 'ELAINE', 'GEORGE', 'NEWMAN']\n",
      "['JERRY', 'KRAMER', 'ELAINE', 'GEORGE', 'NEWMAN']\n"
     ]
    }
   ],
   "source": [
    "# Non-Pythonic code\n",
    "names_uppercase = []\n",
    "for name in names:\n",
    "    names_uppercase.append(name.upper())\n",
    "print(names_uppercase)\n",
    "\n",
    "# Pythonic code with map\n",
    "names_uppercase = [*map(str.upper, names)]\n",
    "print(names_uppercase)"
   ]
  },
  {
   "cell_type": "code",
   "execution_count": 65,
   "id": "3b9c44bb",
   "metadata": {},
   "outputs": [
    {
     "name": "stdout",
     "output_type": "stream",
     "text": [
      "372 ns ± 13.6 ns per loop (mean ± std. dev. of 10 runs, 1,000,000 loops each)\n"
     ]
    }
   ],
   "source": [
    "%%timeit -r10 -n1000000\n",
    "names_uppercase = []\n",
    "for name in names:\n",
    "    names_uppercase.append(name.upper())"
   ]
  },
  {
   "cell_type": "code",
   "execution_count": 67,
   "id": "b323ac4b",
   "metadata": {},
   "outputs": [
    {
     "name": "stdout",
     "output_type": "stream",
     "text": [
      "309 ns ± 6.94 ns per loop (mean ± std. dev. of 10 runs, 1,000,000 loops each)\n"
     ]
    }
   ],
   "source": [
    "%%timeit -r10 -n1000000\n",
    "names_uppercase = [*map(str.upper, names)]\n"
   ]
  }
 ],
 "metadata": {
  "kernelspec": {
   "display_name": ".venv",
   "language": "python",
   "name": "python3"
  },
  "language_info": {
   "codemirror_mode": {
    "name": "ipython",
    "version": 3
   },
   "file_extension": ".py",
   "mimetype": "text/x-python",
   "name": "python",
   "nbconvert_exporter": "python",
   "pygments_lexer": "ipython3",
   "version": "3.10.5"
  }
 },
 "nbformat": 4,
 "nbformat_minor": 5
}
