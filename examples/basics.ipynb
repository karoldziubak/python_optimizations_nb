{
 "cells": [
  {
   "cell_type": "markdown",
   "id": "b7c04b5f",
   "metadata": {},
   "source": [
    "# Zen of Python\n",
    "The Zen of Python is a collection of 19 \"guiding principles\" for writing computer programs that influence the design of the Python programming language. Python code that aligns with these principles is often referred to as \"Pythonic\"."
   ]
  },
  {
   "cell_type": "code",
   "execution_count": 1,
   "id": "3bf25d36",
   "metadata": {},
   "outputs": [
    {
     "name": "stdout",
     "output_type": "stream",
     "text": [
      "The Zen of Python, by Tim Peters\n",
      "\n",
      "Beautiful is better than ugly.\n",
      "Explicit is better than implicit.\n",
      "Simple is better than complex.\n",
      "Complex is better than complicated.\n",
      "Flat is better than nested.\n",
      "Sparse is better than dense.\n",
      "Readability counts.\n",
      "Special cases aren't special enough to break the rules.\n",
      "Although practicality beats purity.\n",
      "Errors should never pass silently.\n",
      "Unless explicitly silenced.\n",
      "In the face of ambiguity, refuse the temptation to guess.\n",
      "There should be one-- and preferably only one --obvious way to do it.\n",
      "Although that way may not be obvious at first unless you're Dutch.\n",
      "Now is better than never.\n",
      "Although never is often better than *right* now.\n",
      "If the implementation is hard to explain, it's a bad idea.\n",
      "If the implementation is easy to explain, it may be a good idea.\n",
      "Namespaces are one honking great idea -- let's do more of those!\n"
     ]
    }
   ],
   "source": [
    "import this"
   ]
  },
  {
   "cell_type": "markdown",
   "id": "063790b4",
   "metadata": {},
   "source": [
    "# Examples of **Pythonic** code with basic built-in functions"
   ]
  },
  {
   "cell_type": "markdown",
   "id": "9f6ed59b",
   "metadata": {},
   "source": [
    "## Create data structures using formal naming conventions and literal syntax"
   ]
  },
  {
   "cell_type": "code",
   "execution_count": 2,
   "id": "0b733c87",
   "metadata": {},
   "outputs": [
    {
     "name": "stdout",
     "output_type": "stream",
     "text": [
      "Lists:\n",
      "42.5 ns ± 2.78 ns per loop (mean ± std. dev. of 10 runs, 1,000,000 loops each)\n",
      "16.3 ns ± 0.414 ns per loop (mean ± std. dev. of 10 runs, 1,000,000 loops each)\n",
      "\n",
      "Dictionaries:\n",
      "44.1 ns ± 0.771 ns per loop (mean ± std. dev. of 10 runs, 1,000,000 loops each)\n",
      "16.3 ns ± 0.247 ns per loop (mean ± std. dev. of 10 runs, 1,000,000 loops each)\n",
      "\n",
      "Sets:\n",
      "44.8 ns ± 0.4 ns per loop (mean ± std. dev. of 10 runs, 1,000,000 loops each)\n",
      "16.1 ns ± 0.211 ns per loop (mean ± std. dev. of 10 runs, 1,000,000 loops each)\n",
      "\n",
      "Tuples:\n",
      "24.4 ns ± 0.471 ns per loop (mean ± std. dev. of 10 runs, 1,000,000 loops each)\n",
      "5.17 ns ± 0.193 ns per loop (mean ± std. dev. of 10 runs, 1,000,000 loops each)\n"
     ]
    }
   ],
   "source": [
    "print('Lists:')\n",
    "%timeit -r10 -n1000000 list()\n",
    "%timeit -r10 -n1000000 []\n",
    "\n",
    "print('\\nDictionaries:')\n",
    "%timeit -r10 -n1000000 dict()\n",
    "%timeit -r10 -n1000000 {}\n",
    "\n",
    "print('\\nSets:')\n",
    "%timeit -r10 -n1000000 set()\n",
    "%timeit -r10 -n1000000 {}\n",
    "\n",
    "print('\\nTuples:')\n",
    "%timeit -r10 -n1000000 tuple()\n",
    "%timeit -r10 -n1000000 ()\n"
   ]
  },
  {
   "cell_type": "code",
   "execution_count": 3,
   "id": "299fa505",
   "metadata": {},
   "outputs": [
    {
     "name": "stdout",
     "output_type": "stream",
     "text": [
      "\n",
      "Strings:\n",
      "27 ns ± 0.622 ns per loop (mean ± std. dev. of 10 runs, 1,000,000 loops each)\n",
      "5.27 ns ± 0.264 ns per loop (mean ± std. dev. of 10 runs, 1,000,000 loops each)\n",
      "\n",
      "Integers:\n",
      "27.8 ns ± 0.565 ns per loop (mean ± std. dev. of 10 runs, 1,000,000 loops each)\n",
      "5.21 ns ± 0.228 ns per loop (mean ± std. dev. of 10 runs, 1,000,000 loops each)\n",
      "\n",
      "Floats:\n",
      "25.5 ns ± 0.825 ns per loop (mean ± std. dev. of 10 runs, 1,000,000 loops each)\n",
      "4.95 ns ± 0.0882 ns per loop (mean ± std. dev. of 10 runs, 1,000,000 loops each)\n",
      "\n",
      "Booleans:\n",
      "21.1 ns ± 0.656 ns per loop (mean ± std. dev. of 10 runs, 1,000,000 loops each)\n",
      "5.07 ns ± 0.162 ns per loop (mean ± std. dev. of 10 runs, 1,000,000 loops each)\n"
     ]
    }
   ],
   "source": [
    "print('\\nStrings:')\n",
    "%timeit -r10 -n1000000 str()\n",
    "%timeit -r10 -n1000000 ''\n",
    "\n",
    "print('\\nIntegers:')\n",
    "%timeit -r10 -n1000000 int()\n",
    "%timeit -r10 -n1000000 0\n",
    "\n",
    "print('\\nFloats:')\n",
    "%timeit -r10 -n1000000 float()\n",
    "%timeit -r10 -n1000000 0.0\n",
    "\n",
    "print('\\nBooleans:')\n",
    "%timeit -r10 -n1000000 bool()\n",
    "%timeit -r10 -n1000000 False"
   ]
  },
  {
   "cell_type": "code",
   "execution_count": 4,
   "id": "ae98423f",
   "metadata": {},
   "outputs": [
    {
     "name": "stdout",
     "output_type": "stream",
     "text": [
      "None:\n",
      "5.12 ns ± 0.179 ns per loop (mean ± std. dev. of 10 runs, 1,000,000 loops each)\n"
     ]
    }
   ],
   "source": [
    "print('None:')\n",
    "%timeit -r10 -n1000000 None"
   ]
  },
  {
   "cell_type": "markdown",
   "id": "fa27bca7",
   "metadata": {},
   "source": [
    "## Create a list of numbers from 0 to 9:"
   ]
  },
  {
   "cell_type": "code",
   "execution_count": 5,
   "id": "1ca6ac91",
   "metadata": {},
   "outputs": [
    {
     "name": "stdout",
     "output_type": "stream",
     "text": [
      "[0, 1, 2, 3, 4, 5, 6, 7, 8, 9]\n",
      "[0, 1, 2, 3, 4, 5, 6, 7, 8, 9]\n",
      "[0, 1, 2, 3, 4, 5, 6, 7, 8, 9]\n"
     ]
    }
   ],
   "source": [
    "# Non-Pythonic code\n",
    "numbers = []\n",
    "for i in range(10):\n",
    "    numbers.append(i)\n",
    "print(numbers)\n",
    "\n",
    "# Better code\n",
    "numbers = [num for num in range(10)]\n",
    "print(numbers)\n",
    "\n",
    "# Pythonic code\n",
    "numbers = [*range(10)]\n",
    "print(numbers)"
   ]
  },
  {
   "cell_type": "markdown",
   "id": "a9f6803e",
   "metadata": {},
   "source": [
    "Speed comparison:"
   ]
  },
  {
   "cell_type": "code",
   "execution_count": 6,
   "id": "9b5bde64",
   "metadata": {},
   "outputs": [
    {
     "name": "stdout",
     "output_type": "stream",
     "text": [
      "417 ns ± 4.63 ns per loop (mean ± std. dev. of 10 runs, 1,000,000 loops each)\n"
     ]
    }
   ],
   "source": [
    "%%timeit -r10 -n1000000\n",
    "numbers = []\n",
    "for i in range(10):\n",
    "    numbers.append(i)"
   ]
  },
  {
   "cell_type": "code",
   "execution_count": 7,
   "id": "a1f7198e",
   "metadata": {},
   "outputs": [
    {
     "name": "stdout",
     "output_type": "stream",
     "text": [
      "351 ns ± 8.8 ns per loop (mean ± std. dev. of 10 runs, 1,000,000 loops each)\n"
     ]
    }
   ],
   "source": [
    "%timeit -r10 -n1000000 numbers = [num for num in range(10)]"
   ]
  },
  {
   "cell_type": "code",
   "execution_count": 8,
   "id": "41db6207",
   "metadata": {},
   "outputs": [
    {
     "name": "stdout",
     "output_type": "stream",
     "text": [
      "150 ns ± 2.28 ns per loop (mean ± std. dev. of 10 runs, 1,000,000 loops each)\n"
     ]
    }
   ],
   "source": [
    "%timeit -r10 -n1000000 numbers = [*range(10)]"
   ]
  },
  {
   "cell_type": "markdown",
   "id": "324a47e9",
   "metadata": {},
   "source": [
    "Using `[*range(10)]` is simple, easy to read, short and almost three times faster in execution time than the `for` loop and two times faster than the list comprehension."
   ]
  },
  {
   "cell_type": "markdown",
   "id": "a5ea0029",
   "metadata": {},
   "source": [
    "## Double the numbers in the above list:"
   ]
  },
  {
   "cell_type": "code",
   "execution_count": 9,
   "id": "dee6680a",
   "metadata": {},
   "outputs": [
    {
     "name": "stdout",
     "output_type": "stream",
     "text": [
      "[0, 2, 4, 6, 8, 10, 12, 14, 16, 18]\n",
      "[0, 2, 4, 6, 8, 10, 12, 14, 16, 18]\n"
     ]
    }
   ],
   "source": [
    "# Non-Pythonic code\n",
    "doubled_numbers = []\n",
    "for i in range(len(numbers)):\n",
    "    doubled_numbers.append(numbers[i] * 2)\n",
    "print(doubled_numbers)\n",
    "\n",
    "# Pythonic code\n",
    "doubled_numbers = [number * 2 for number in numbers]\n",
    "print(doubled_numbers)"
   ]
  },
  {
   "cell_type": "markdown",
   "id": "0f3890fa",
   "metadata": {},
   "source": [
    "Speed comparison:"
   ]
  },
  {
   "cell_type": "code",
   "execution_count": 10,
   "id": "3a2c92e6",
   "metadata": {},
   "outputs": [
    {
     "name": "stdout",
     "output_type": "stream",
     "text": [
      "700 ns ± 10.7 ns per loop (mean ± std. dev. of 10 runs, 1,000,000 loops each)\n"
     ]
    }
   ],
   "source": [
    "%%timeit -r10 -n1000000\n",
    "doubled_numbers = []\n",
    "for i in range(len(numbers)):\n",
    "    doubled_numbers.append(numbers[i] * 2)"
   ]
  },
  {
   "cell_type": "code",
   "execution_count": 11,
   "id": "cb769d6c",
   "metadata": {},
   "outputs": [
    {
     "name": "stdout",
     "output_type": "stream",
     "text": [
      "338 ns ± 4.59 ns per loop (mean ± std. dev. of 10 runs, 1,000,000 loops each)\n"
     ]
    }
   ],
   "source": [
    "%%timeit -r10 -n1000000\n",
    "doubled_numbers = [number * 2 for number in numbers]"
   ]
  },
  {
   "cell_type": "markdown",
   "id": "32ae76d9",
   "metadata": {},
   "source": [
    "Again, not only is the code shorter and easier to read, but it is also two times faster in execution time."
   ]
  },
  {
   "cell_type": "markdown",
   "id": "002cda63",
   "metadata": {},
   "source": [
    "## Create a list of tuples of the form (index, name):"
   ]
  },
  {
   "cell_type": "code",
   "execution_count": 12,
   "id": "e8064f8b",
   "metadata": {},
   "outputs": [
    {
     "name": "stdout",
     "output_type": "stream",
     "text": [
      "[(0, 'Jerry'), (1, 'Kramer'), (2, 'Elaine'), (3, 'George'), (4, 'Newman')]\n",
      "[(0, 'Jerry'), (1, 'Kramer'), (2, 'Elaine'), (3, 'George'), (4, 'Newman')]\n",
      "[(0, 'Jerry'), (1, 'Kramer'), (2, 'Elaine'), (3, 'George'), (4, 'Newman')]\n"
     ]
    }
   ],
   "source": [
    "names = ['Jerry', 'Kramer', 'Elaine', 'George', 'Newman']\n",
    "# Non-Pythonic code\n",
    "indexed_names = []\n",
    "for i, name in enumerate(names):\n",
    "    index_name = (i,name)\n",
    "    indexed_names.append(index_name) \n",
    "print(indexed_names)\n",
    "\n",
    "# Better code\n",
    "indexed_names_comp = [(i,name) for i,name in enumerate(names)]\n",
    "print(indexed_names_comp)\n",
    "\n",
    "# Pythonic code\n",
    "indexed_names_unpack = [*enumerate(names, 0)]\n",
    "print(indexed_names_unpack)"
   ]
  },
  {
   "cell_type": "markdown",
   "id": "dbd2cebb",
   "metadata": {},
   "source": [
    "## Collect the names in the above list that have six letters or more:"
   ]
  },
  {
   "cell_type": "code",
   "execution_count": 13,
   "id": "f85cf4ce",
   "metadata": {},
   "outputs": [
    {
     "name": "stdout",
     "output_type": "stream",
     "text": [
      "['Kramer', 'Elaine', 'George', 'Newman']\n",
      "['Kramer', 'Elaine', 'George', 'Newman']\n",
      "['Kramer', 'Elaine', 'George', 'Newman']\n"
     ]
    }
   ],
   "source": [
    "# Non-Pythonic code\n",
    "i = 0\n",
    "new_list= []\n",
    "while i < len(names):\n",
    "    if len(names[i]) >= 6:\n",
    "        new_list.append(names[i])\n",
    "    i += 1\n",
    "print(new_list)\n",
    "\n",
    "# Better code\n",
    "better_list = []\n",
    "for name in names:\n",
    "    if len(name) >= 6:\n",
    "        better_list.append(name)\n",
    "print(better_list)\n",
    "\n",
    "# Pythonic code\n",
    "best_list = [name for name in names if len(name) >= 6]\n",
    "print(best_list)"
   ]
  },
  {
   "cell_type": "markdown",
   "id": "e87a6ac6",
   "metadata": {},
   "source": [
    "Speed comparison:"
   ]
  },
  {
   "cell_type": "code",
   "execution_count": 14,
   "id": "f69521cd",
   "metadata": {},
   "outputs": [
    {
     "name": "stdout",
     "output_type": "stream",
     "text": [
      "648 ns ± 13.5 ns per loop (mean ± std. dev. of 10 runs, 1,000,000 loops each)\n"
     ]
    }
   ],
   "source": [
    "%%timeit -r10 -n1000000\n",
    "i = 0\n",
    "new_list= []\n",
    "while i < len(names):\n",
    "    if len(names[i]) >= 6:\n",
    "        new_list.append(names[i])\n",
    "    i += 1"
   ]
  },
  {
   "cell_type": "code",
   "execution_count": 15,
   "id": "90f19704",
   "metadata": {},
   "outputs": [
    {
     "name": "stdout",
     "output_type": "stream",
     "text": [
      "296 ns ± 7.95 ns per loop (mean ± std. dev. of 10 runs, 1,000,000 loops each)\n"
     ]
    }
   ],
   "source": [
    "%%timeit -r10 -n1000000\n",
    "best_list = [name for name in names if len(name) >= 6]"
   ]
  },
  {
   "cell_type": "markdown",
   "id": "5b1a6407",
   "metadata": {},
   "source": [
    "## Convert all the names in the above list to uppercase:"
   ]
  },
  {
   "cell_type": "code",
   "execution_count": 16,
   "id": "fb26b367",
   "metadata": {},
   "outputs": [
    {
     "name": "stdout",
     "output_type": "stream",
     "text": [
      "['JERRY', 'KRAMER', 'ELAINE', 'GEORGE', 'NEWMAN']\n",
      "['JERRY', 'KRAMER', 'ELAINE', 'GEORGE', 'NEWMAN']\n"
     ]
    }
   ],
   "source": [
    "# Non-Pythonic code\n",
    "names_uppercase = []\n",
    "for name in names:\n",
    "    names_uppercase.append(name.upper())\n",
    "print(names_uppercase)\n",
    "\n",
    "# Pythonic code with map\n",
    "names_uppercase = [*map(str.upper, names)]\n",
    "print(names_uppercase)"
   ]
  },
  {
   "cell_type": "code",
   "execution_count": 17,
   "id": "3b9c44bb",
   "metadata": {},
   "outputs": [
    {
     "name": "stdout",
     "output_type": "stream",
     "text": [
      "372 ns ± 8.63 ns per loop (mean ± std. dev. of 10 runs, 1,000,000 loops each)\n"
     ]
    }
   ],
   "source": [
    "%%timeit -r10 -n1000000\n",
    "names_uppercase = []\n",
    "for name in names:\n",
    "    names_uppercase.append(name.upper())"
   ]
  },
  {
   "cell_type": "code",
   "execution_count": 18,
   "id": "b323ac4b",
   "metadata": {},
   "outputs": [
    {
     "name": "stdout",
     "output_type": "stream",
     "text": [
      "278 ns ± 7.53 ns per loop (mean ± std. dev. of 10 runs, 1,000,000 loops each)\n"
     ]
    }
   ],
   "source": [
    "%%timeit -r10 -n1000000\n",
    "names_uppercase = [*map(str.upper, names)]\n"
   ]
  },
  {
   "cell_type": "markdown",
   "id": "ad3f1fcd",
   "metadata": {},
   "source": [
    "## Calculate Fibonacci sequence with recursion and lru_cache "
   ]
  },
  {
   "cell_type": "code",
   "execution_count": 2,
   "id": "042f2274",
   "metadata": {},
   "outputs": [],
   "source": [
    "from functools import lru_cache\n",
    "# Non-Pythonic code\n",
    "def fibonacci(n):\n",
    "    if n == 0:\n",
    "        return 0\n",
    "    elif n == 1:\n",
    "        return 1\n",
    "    else:\n",
    "        return fibonacci(n-1) + fibonacci(n-2)\n",
    "    \n",
    "# Pythonic code\n",
    "@lru_cache(maxsize=None)\n",
    "def fibonacci_cache(n):\n",
    "    if n == 0:\n",
    "        return 0\n",
    "    elif n == 1:\n",
    "        return 1\n",
    "    else:    \n",
    "        return fibonacci_cache(n-1) + fibonacci_cache(n-2)"
   ]
  },
  {
   "cell_type": "markdown",
   "id": "169babcf",
   "metadata": {},
   "source": [
    "Speed comparison:"
   ]
  },
  {
   "cell_type": "code",
   "execution_count": 4,
   "id": "d7ded2c9",
   "metadata": {},
   "outputs": [
    {
     "name": "stdout",
     "output_type": "stream",
     "text": [
      "18.5 ms ± 164 μs per loop (mean ± std. dev. of 3 runs, 50 loops each)\n",
      "112 ns ± 94.8 ns per loop (mean ± std. dev. of 3 runs, 50 loops each)\n"
     ]
    }
   ],
   "source": [
    "%timeit -r3 -n50 fibonacci(25)\n",
    "\n",
    "%timeit -r3 -n50 fibonacci_cache(25)"
   ]
  },
  {
   "cell_type": "markdown",
   "id": "90770aa4",
   "metadata": {},
   "source": [
    "## Own decorator e.g. to measure execution time"
   ]
  },
  {
   "cell_type": "code",
   "execution_count": 5,
   "id": "69be32ea",
   "metadata": {},
   "outputs": [
    {
     "name": "stdout",
     "output_type": "stream",
     "text": [
      "Execution time of slow_func: 0.0215s\n",
      "Execution time of slow_func: 0.2063s\n",
      "Execution time of slow_func: 2.2954s\n",
      "Execution time of slow_func: 5.9246s\n"
     ]
    }
   ],
   "source": [
    "from functools import wraps\n",
    "import time\n",
    "\n",
    "def timer(func):\n",
    "    @wraps(func)\n",
    "    def wrapper(*args, **kwargs):\n",
    "        start = time.time()\n",
    "        result = func(*args, **kwargs)\n",
    "        print(f\"Execution time of {func.__name__}: {time.time() - start:.4f}s\")\n",
    "        return result\n",
    "    return wrapper\n",
    "\n",
    "@timer\n",
    "def slow_func(n):\n",
    "    fibonacci(n)\n",
    "\n",
    "slow_func(25)\n",
    "slow_func(30)\n",
    "slow_func(35)\n",
    "slow_func(37)\n"
   ]
  }
 ],
 "metadata": {
  "kernelspec": {
   "display_name": ".venv",
   "language": "python",
   "name": "python3"
  },
  "language_info": {
   "codemirror_mode": {
    "name": "ipython",
    "version": 3
   },
   "file_extension": ".py",
   "mimetype": "text/x-python",
   "name": "python",
   "nbconvert_exporter": "python",
   "pygments_lexer": "ipython3",
   "version": "3.10.5"
  }
 },
 "nbformat": 4,
 "nbformat_minor": 5
}
