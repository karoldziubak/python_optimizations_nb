{
 "cells": [
  {
   "cell_type": "markdown",
   "id": "78454889",
   "metadata": {},
   "source": [
    "# line-profiler\n",
    "`line_profiler` is a module for doing line-by-line profiling of functions for spotting bottlenecks in your code"
   ]
  },
  {
   "cell_type": "code",
   "execution_count": 1,
   "id": "07c0bebf",
   "metadata": {},
   "outputs": [],
   "source": [
    "%reload_ext line_profiler\n",
    "import numpy as np"
   ]
  },
  {
   "cell_type": "markdown",
   "id": "10267a04",
   "metadata": {},
   "source": [
    "## Examples of usage"
   ]
  },
  {
   "cell_type": "markdown",
   "id": "3651d9f7",
   "metadata": {},
   "source": [
    "### bash %lprun command"
   ]
  },
  {
   "cell_type": "code",
   "execution_count": 2,
   "id": "ec4c5464",
   "metadata": {},
   "outputs": [
    {
     "name": "stdout",
     "output_type": "stream",
     "text": [
      "Timer unit: 1e-07 s\n",
      "\n",
      "Total time: 0.0112454 s\n",
      "File: C:\\Users\\karol\\AppData\\Local\\Temp\\ipykernel_18396\\815037871.py\n",
      "Function: foo at line 6\n",
      "\n",
      "Line #      Hits         Time  Per Hit   % Time  Line Contents\n",
      "==============================================================\n",
      "     6                                           def foo():\n",
      "     7         1     112402.0 112402.0    100.0      y = bar()\n",
      "     8         1         50.0     50.0      0.0      z = 10 + y\n",
      "     9         1          2.0      2.0      0.0      return z"
     ]
    }
   ],
   "source": [
    "def bar():\n",
    "    a = np.random.random((3, 4))\n",
    "    x = 10 * a\n",
    "    return x\n",
    "\n",
    "def foo():\n",
    "    y = bar()\n",
    "    z = 10 + y\n",
    "    return z\n",
    "\n",
    "%lprun -f foo foo()"
   ]
  },
  {
   "cell_type": "markdown",
   "id": "1abe379a",
   "metadata": {},
   "source": [
    "We see that the bottleneck is in `bar` called in `foo`. Let's see what happens there. We can use `%lprun` to profile the function `bar` inside `foo`."
   ]
  },
  {
   "cell_type": "code",
   "execution_count": 3,
   "id": "a417f291",
   "metadata": {},
   "outputs": [
    {
     "name": "stdout",
     "output_type": "stream",
     "text": [
      "Timer unit: 1e-07 s\n",
      "\n",
      "Total time: 3.51e-05 s\n",
      "File: C:\\Users\\karol\\AppData\\Local\\Temp\\ipykernel_18396\\815037871.py\n",
      "Function: bar at line 1\n",
      "\n",
      "Line #      Hits         Time  Per Hit   % Time  Line Contents\n",
      "==============================================================\n",
      "     1                                           def bar():\n",
      "     2         1        200.0    200.0     57.0      a = np.random.random((3, 4))\n",
      "     3         1        148.0    148.0     42.2      x = 10 * a\n",
      "     4         1          3.0      3.0      0.9      return x"
     ]
    }
   ],
   "source": [
    "%lprun -f bar foo()"
   ]
  },
  {
   "cell_type": "markdown",
   "id": "cf021bb9",
   "metadata": {},
   "source": [
    "### using LineProfiler class"
   ]
  },
  {
   "cell_type": "code",
   "execution_count": 4,
   "id": "4162f060",
   "metadata": {},
   "outputs": [
    {
     "name": "stdout",
     "output_type": "stream",
     "text": [
      "Timer unit: 1e-07 s\n",
      "\n",
      "Total time: 4.6e-05 s\n",
      "File: C:\\Users\\karol\\AppData\\Local\\Temp\\ipykernel_18396\\321925748.py\n",
      "Function: foo at line 9\n",
      "\n",
      "Line #      Hits         Time  Per Hit   % Time  Line Contents\n",
      "==============================================================\n",
      "     9                                           def foo():\n",
      "    10         1        423.0    423.0     92.0      y = bar()\n",
      "    11         1         35.0     35.0      7.6      z = 10 + y\n",
      "    12         1          2.0      2.0      0.4      return z\n",
      "\n"
     ]
    }
   ],
   "source": [
    "from line_profiler import LineProfiler\n",
    "import random\n",
    "\n",
    "def bar():\n",
    "    a = np.random.random((3, 4))\n",
    "    x = 10 * a\n",
    "    return x\n",
    "\n",
    "def foo():\n",
    "    y = bar()\n",
    "    z = 10 + y\n",
    "    return z\n",
    "\n",
    "lp = LineProfiler()\n",
    "lp.add_function(foo)\n",
    "lp.run('foo()')\n",
    "lp.print_stats()"
   ]
  },
  {
   "cell_type": "markdown",
   "id": "d4ac0e7a",
   "metadata": {},
   "source": [
    "We see that the bottleneck is in `bar` called in `foo`. Let's see what happens there. We can use `LineProfiler` to profile the function `bar` inside `foo`."
   ]
  },
  {
   "cell_type": "code",
   "execution_count": 5,
   "id": "6816d5b2",
   "metadata": {},
   "outputs": [
    {
     "name": "stdout",
     "output_type": "stream",
     "text": [
      "Timer unit: 1e-07 s\n",
      "\n",
      "Total time: 4.46e-05 s\n",
      "File: C:\\Users\\karol\\AppData\\Local\\Temp\\ipykernel_18396\\321925748.py\n",
      "Function: bar at line 4\n",
      "\n",
      "Line #      Hits         Time  Per Hit   % Time  Line Contents\n",
      "==============================================================\n",
      "     4                                           def bar():\n",
      "     5         1        242.0    242.0     54.3      a = np.random.random((3, 4))\n",
      "     6         1        199.0    199.0     44.6      x = 10 * a\n",
      "     7         1          5.0      5.0      1.1      return x\n",
      "\n",
      "Total time: 9.96e-05 s\n",
      "File: C:\\Users\\karol\\AppData\\Local\\Temp\\ipykernel_18396\\321925748.py\n",
      "Function: foo at line 9\n",
      "\n",
      "Line #      Hits         Time  Per Hit   % Time  Line Contents\n",
      "==============================================================\n",
      "     9                                           def foo():\n",
      "    10         2        915.0    457.5     91.9      y = bar()\n",
      "    11         2         76.0     38.0      7.6      z = 10 + y\n",
      "    12         2          5.0      2.5      0.5      return z\n",
      "\n"
     ]
    }
   ],
   "source": [
    "lp.add_function(bar)\n",
    "lp.run('foo()')\n",
    "lp.print_stats()"
   ]
  },
  {
   "cell_type": "markdown",
   "id": "406581e9",
   "metadata": {},
   "source": [
    "## Case study - random walker\n",
    "Case based on [Easily Profile Python Code in Jupyter](https://mortada.net/easily-profile-python-code-in-jupyter.html) example.\n",
    "\n",
    "Suppose you have a sequence of coordinates in (latitude / longitude) that represents a random walk from an origin. At each step the latitude and longitude change is determined by drawing from a Normal distribution:"
   ]
  },
  {
   "cell_type": "code",
   "execution_count": 6,
   "id": "c53dca50",
   "metadata": {},
   "outputs": [],
   "source": [
    "import numpy as np\n",
    "import pandas as pd\n",
    "%reload_ext line_profiler"
   ]
  },
  {
   "cell_type": "code",
   "execution_count": 7,
   "id": "36f43494",
   "metadata": {},
   "outputs": [
    {
     "data": {
      "text/html": [
       "<div>\n",
       "<style scoped>\n",
       "    .dataframe tbody tr th:only-of-type {\n",
       "        vertical-align: middle;\n",
       "    }\n",
       "\n",
       "    .dataframe tbody tr th {\n",
       "        vertical-align: top;\n",
       "    }\n",
       "\n",
       "    .dataframe thead th {\n",
       "        text-align: right;\n",
       "    }\n",
       "</style>\n",
       "<table border=\"1\" class=\"dataframe\">\n",
       "  <thead>\n",
       "    <tr style=\"text-align: right;\">\n",
       "      <th></th>\n",
       "      <th>lat</th>\n",
       "      <th>lon</th>\n",
       "    </tr>\n",
       "  </thead>\n",
       "  <tbody>\n",
       "    <tr>\n",
       "      <th>0</th>\n",
       "      <td>51.262435</td>\n",
       "      <td>17.038824</td>\n",
       "    </tr>\n",
       "    <tr>\n",
       "      <th>1</th>\n",
       "      <td>51.209617</td>\n",
       "      <td>16.931527</td>\n",
       "    </tr>\n",
       "    <tr>\n",
       "      <th>2</th>\n",
       "      <td>51.296158</td>\n",
       "      <td>16.701374</td>\n",
       "    </tr>\n",
       "    <tr>\n",
       "      <th>3</th>\n",
       "      <td>51.470639</td>\n",
       "      <td>16.625253</td>\n",
       "    </tr>\n",
       "    <tr>\n",
       "      <th>4</th>\n",
       "      <td>51.502543</td>\n",
       "      <td>16.600316</td>\n",
       "    </tr>\n",
       "    <tr>\n",
       "      <th>5</th>\n",
       "      <td>51.648754</td>\n",
       "      <td>16.394302</td>\n",
       "    </tr>\n",
       "    <tr>\n",
       "      <th>6</th>\n",
       "      <td>51.616512</td>\n",
       "      <td>16.355896</td>\n",
       "    </tr>\n",
       "    <tr>\n",
       "      <th>7</th>\n",
       "      <td>51.729889</td>\n",
       "      <td>16.245907</td>\n",
       "    </tr>\n",
       "    <tr>\n",
       "      <th>8</th>\n",
       "      <td>51.712646</td>\n",
       "      <td>16.158121</td>\n",
       "    </tr>\n",
       "    <tr>\n",
       "      <th>9</th>\n",
       "      <td>51.716868</td>\n",
       "      <td>16.216403</td>\n",
       "    </tr>\n",
       "  </tbody>\n",
       "</table>\n",
       "</div>"
      ],
      "text/plain": [
       "         lat        lon\n",
       "0  51.262435  17.038824\n",
       "1  51.209617  16.931527\n",
       "2  51.296158  16.701374\n",
       "3  51.470639  16.625253\n",
       "4  51.502543  16.600316\n",
       "5  51.648754  16.394302\n",
       "6  51.616512  16.355896\n",
       "7  51.729889  16.245907\n",
       "8  51.712646  16.158121\n",
       "9  51.716868  16.216403"
      ]
     },
     "execution_count": 7,
     "metadata": {},
     "output_type": "execute_result"
    }
   ],
   "source": [
    "np.random.seed(1)\n",
    "n = 100000\n",
    "\n",
    "origin = {'lat': 51.1, 'lon': 17.1} # Wrocław\n",
    "\n",
    "changes = np.random.randn(n, 2) /10\n",
    "\n",
    "trace = pd.DataFrame.from_records(changes, columns=['lat', 'lon']).cumsum()\n",
    "trace['lat'] += origin['lat']\n",
    "trace['lon'] += origin['lon']\n",
    "\n",
    "trace.head(10)"
   ]
  },
  {
   "cell_type": "markdown",
   "id": "d98e8c39",
   "metadata": {},
   "source": [
    "We've got our random walk and we can plot it:"
   ]
  },
  {
   "cell_type": "code",
   "execution_count": 8,
   "id": "f2ec435b",
   "metadata": {},
   "outputs": [
    {
     "data": {
      "image/png": "[encoded data removed]",
      "text/plain": [
       "<Figure size 640x480 with 1 Axes>"
      ]
     },
     "metadata": {},
     "output_type": "display_data"
    }
   ],
   "source": [
    "import matplotlib.pyplot as plt\n",
    "\n",
    "plt.plot(trace.lon, trace.lat)\n",
    "plt.show()"
   ]
  },
  {
   "cell_type": "markdown",
   "id": "4af2a4d2",
   "metadata": {},
   "source": [
    "Suppose we want to know what was the biggest distance from the origin at any point in time. To calculate that we need to be able to calculate the distance between two points on the Earth's surface. We can use [Haversine formula](https://en.wikipedia.org/wiki/Haversine_formula) to calculate the distance between two points on the Earth's surface.\n",
    "\n",
    "$$\n",
    "d = 2r arcsin\\left(\\sqrt{\\sin^2(\\frac{\\Delta\\phi}{2}) + \\cos(\\phi_1)\\cos(\\phi_2)\\sin^2(\\frac{\\Delta\\lambda}{2})}\\right)\n",
    "$$\n",
    "where $r$ is the radius of the Earth, $\\phi$ is the latitude, $\\lambda$ is the longitude and $\\Delta\\phi$ and $\\Delta\\lambda$ are the differences between the latitudes and longitudes."
   ]
  },
  {
   "cell_type": "code",
   "execution_count": null,
   "id": "f4970c37",
   "metadata": {},
   "outputs": [],
   "source": [
    "from math import radians, cos, sin, asin, sqrt\n",
    "\n",
    "def haversine(lat1: float, lon1: float, lat2: float, lon2: float) -> float:\n",
    "    \"\"\"\n",
    "    Calculate the distance between two points on the earth with given latitudes and longitudes of the two points and haversine formula.\n",
    "    \"\"\"\n",
    "    earth_radius = 6367\n",
    "    lon1, lat1, lon2, lat2 = map(radians, [lon1, lat1, lon2, lat2])\n",
    "    temp = sin((lat2 - lat1) / 2)**2 + cos(lat1) * cos(lat2) * sin((lon2 - lon1) / 2)**2\n",
    "    d = 2 * earth_radius * asin(sqrt(temp))\n",
    "    return d"
   ]
  },
  {
   "cell_type": "markdown",
   "id": "8859bfea",
   "metadata": {},
   "source": [
    "Test our haversine function with ipytest:"
   ]
  },
  {
   "cell_type": "code",
   "execution_count": 10,
   "id": "c3e9227e",
   "metadata": {},
   "outputs": [],
   "source": [
    "import ipytest\n",
    "from pytest import approx\n",
    "ipytest.autoconfig()"
   ]
  },
  {
   "cell_type": "code",
   "execution_count": 11,
   "id": "ce897288",
   "metadata": {},
   "outputs": [
    {
     "name": "stdout",
     "output_type": "stream",
     "text": [
      "\u001b[32m.\u001b[0m\u001b[32m                                                                                            [100%]\u001b[0m\n",
      "\u001b[32m\u001b[32m\u001b[1m1 passed\u001b[0m\u001b[32m in 0.01s\u001b[0m\u001b[0m\n"
     ]
    }
   ],
   "source": [
    "%%ipytest\n",
    "def test_haversine():\n",
    "    assert haversine(51.1, 17.1, 52.2, 18.2) == approx(143.851, abs=0.001)\n",
    "    assert haversine(51.1, 17.1, 52.2, 18.2) == haversine(52.2, 18.2, 51.1, 17.1)"
   ]
  },
  {
   "cell_type": "markdown",
   "id": "fe29816c",
   "metadata": {},
   "source": [
    "With tested haversine function we can calculate the distance from the origin at any point in time:"
   ]
  },
  {
   "cell_type": "code",
   "execution_count": 13,
   "id": "b143b3ac",
   "metadata": {},
   "outputs": [
    {
     "data": {
      "text/plain": [
       "(lat    113.094531\n",
       " lon     47.094077\n",
       " Name: 97594, dtype: float64,\n",
       " np.float64(6648.791358150188))"
      ]
     },
     "execution_count": 13,
     "metadata": {},
     "output_type": "execute_result"
    }
   ],
   "source": [
    "def get_distances(trace, origin):\n",
    "    distances = {}\n",
    "    for i in trace.index:\n",
    "        distances[i] = haversine(trace['lat'].loc[i], trace['lon'].loc[i], origin['lat'], origin['lon'])\n",
    "    distances = pd.Series(distances)\n",
    "    return distances\n",
    "\n",
    "def get_farthest(trace, origin):\n",
    "    distance = get_distances(trace, origin)\n",
    "    max_idx = distance.argmax()\n",
    "    return trace.loc[max_idx], distance.loc[max_idx]\n",
    "\n",
    "get_farthest(trace, origin)"
   ]
  },
  {
   "cell_type": "code",
   "execution_count": 16,
   "id": "cfa73d64",
   "metadata": {},
   "outputs": [
    {
     "name": "stdout",
     "output_type": "stream",
     "text": [
      "1.48 s ± 1.11 ms per loop (mean ± std. dev. of 3 runs, 5 loops each)\n"
     ]
    }
   ],
   "source": [
    "%timeit -r3 -n5 get_farthest(trace, origin)"
   ]
  },
  {
   "cell_type": "markdown",
   "id": "70c84258",
   "metadata": {},
   "source": [
    "Not bad, but could be faster. Let's see what's the bottleneck."
   ]
  },
  {
   "cell_type": "code",
   "execution_count": 17,
   "id": "08628614",
   "metadata": {},
   "outputs": [
    {
     "name": "stdout",
     "output_type": "stream",
     "text": [
      "Timer unit: 1e-07 s\n",
      "\n",
      "Total time: 7.76522 s\n",
      "File: C:\\Users\\karol\\AppData\\Local\\Temp\\ipykernel_18396\\2835619839.py\n",
      "Function: get_farthest at line 8\n",
      "\n",
      "Line #      Hits         Time  Per Hit   % Time  Line Contents\n",
      "==============================================================\n",
      "     8                                           def get_farthest(trace, origin):\n",
      "     9         1   77634951.0    8e+07    100.0      distance = get_distances(trace, origin)\n",
      "    10         1       2612.0   2612.0      0.0      max_idx = distance.argmax()\n",
      "    11         1      14654.0  14654.0      0.0      return trace.loc[max_idx], distance.loc[max_idx]"
     ]
    }
   ],
   "source": [
    "%lprun -f get_farthest get_farthest(trace, origin)"
   ]
  },
  {
   "cell_type": "markdown",
   "id": "62264afc",
   "metadata": {},
   "source": [
    "Problematic spot is `get_distances`. Let's see what's the bottleneck there."
   ]
  },
  {
   "cell_type": "code",
   "execution_count": 21,
   "id": "b681e0ed",
   "metadata": {},
   "outputs": [
    {
     "name": "stdout",
     "output_type": "stream",
     "text": [
      "Timer unit: 1e-07 s\n",
      "\n",
      "Total time: 7.8754 s\n",
      "File: C:\\Users\\karol\\AppData\\Local\\Temp\\ipykernel_18396\\2835619839.py\n",
      "Function: get_distances at line 1\n",
      "\n",
      "Line #      Hits         Time  Per Hit   % Time  Line Contents\n",
      "==============================================================\n",
      "     1                                           def get_distances(trace, origin):\n",
      "     2         1          4.0      4.0      0.0      distances = {}\n",
      "     3    100001     646013.0      6.5      0.8      for i in trace.index:\n",
      "     4    100000   77844665.0    778.4     98.8          distances[i] = haversine(trace['lat'].loc[i], trace['lon'].loc[i], origin['lat'], origin['lon'])\n",
      "     5         1     263281.0 263281.0      0.3      distances = pd.Series(distances)\n",
      "     6         1          5.0      5.0      0.0      return distances"
     ]
    }
   ],
   "source": [
    "%lprun -f get_distances get_farthest(trace, origin)"
   ]
  },
  {
   "cell_type": "markdown",
   "id": "e97ef4d5",
   "metadata": {},
   "source": [
    "The most problematic spot is `haversine`. Let's see what's the bottleneck there."
   ]
  },
  {
   "cell_type": "code",
   "execution_count": 19,
   "id": "e3cc9b2a",
   "metadata": {},
   "outputs": [
    {
     "name": "stdout",
     "output_type": "stream",
     "text": [
      "Timer unit: 1e-07 s\n",
      "\n",
      "Total time: 0.274304 s\n",
      "File: C:\\Users\\karol\\AppData\\Local\\Temp\\ipykernel_18396\\2800141189.py\n",
      "Function: haversine at line 3\n",
      "\n",
      "Line #      Hits         Time  Per Hit   % Time  Line Contents\n",
      "==============================================================\n",
      "     3                                           def haversine(lat1, lon1, lat2, lon2):\n",
      "     4    100000     225654.0      2.3      8.2      earth_radius = 6367\n",
      "     5    100000     673526.0      6.7     24.6      lon1, lat1, lon2, lat2 = map(radians, [lon1, lat1, lon2, lat2])\n",
      "     6    100000    1120956.0     11.2     40.9      temp = sin((lat2 - lat1) / 2)**2 + cos(lat1) * cos(lat2) * sin((lon2 - lon1) / 2)**2\n",
      "     7    100000     518889.0      5.2     18.9      d = 2 * earth_radius * asin(sqrt(temp))\n",
      "     8    100000     204017.0      2.0      7.4      return d"
     ]
    }
   ],
   "source": [
    "%lprun -f haversine get_farthest(trace, origin)"
   ]
  },
  {
   "cell_type": "markdown",
   "id": "dc226a93",
   "metadata": {},
   "source": [
    "Total time of haversine execution time is only `0.274304 s` from total of total `7.8754 s`. This suggests that haversine is not a bottleneck per se, but the for loop that calls it is.\n",
    "\n",
    "To fix the bottleneck we can vectorize haversine with numpy:"
   ]
  },
  {
   "cell_type": "code",
   "execution_count": 22,
   "id": "00646765",
   "metadata": {},
   "outputs": [],
   "source": [
    "def haversine_vec(lat1, lon1, lat2, lon2):\n",
    "    earth_radius = 6367\n",
    "    lon1, lat1, lon2, lat2 = map(np.radians, [lon1, lat1, lon2, lat2])\n",
    "    temp = np.sin((lat2 - lat1) / 2)**2 + np.cos(lat1) * np.cos(lat2) * np.sin((lon2 - lon1) / 2)**2\n",
    "    d = 2 * earth_radius * np.arcsin(np.sqrt(temp))\n",
    "    return d"
   ]
  },
  {
   "cell_type": "code",
   "execution_count": 30,
   "id": "02fa7460",
   "metadata": {},
   "outputs": [
    {
     "name": "stdout",
     "output_type": "stream",
     "text": [
      "\u001b[32m.\u001b[0m\u001b[32m.\u001b[0m\u001b[32m.\u001b[0m\u001b[32m                                                                                          [100%]\u001b[0m\n",
      "\u001b[32m\u001b[32m\u001b[1m3 passed\u001b[0m\u001b[32m in 0.01s\u001b[0m\u001b[0m\n"
     ]
    }
   ],
   "source": [
    "%%ipytest\n",
    "\n",
    "def test_haversine_vec():\n",
    "    assert haversine_vec(51.1, 17.1, 52.2, 18.2) == approx(143.851, abs=0.001)\n",
    "    assert haversine_vec(51.1, 17.1, 52.2, 18.2) == haversine_vec(52.2, 18.2, 51.1, 17.1)\n",
    "\n",
    "def test_haversine_vec_with_haversine():\n",
    "    assert haversine_vec(51.1, 17.1, 52.2, 18.2) == approx(haversine(51.1, 17.1, 52.2, 18.2), abs=0.001)\n",
    "\n",
    "def test_haversine_vec_with_vector():\n",
    "    assert haversine_vec(51.1, 17.1,[52.2, 52.3], [18.2, 18.3]) == approx([143.851, 156.879], abs=0.001)"
   ]
  },
  {
   "cell_type": "markdown",
   "id": "90b6d57e",
   "metadata": {},
   "source": [
    "With tested vectorized haversine function we can calculate the distance from the origin at any point in time:"
   ]
  },
  {
   "cell_type": "code",
   "execution_count": 32,
   "id": "019994e4",
   "metadata": {},
   "outputs": [],
   "source": [
    "def get_distances_vec(trace, origin):\n",
    "    distances = haversine_vec(trace['lat'], trace['lon'], origin['lat'], origin['lon'])\n",
    "    return distances\n",
    "\n",
    "def get_farthest_vec(trace, origin):\n",
    "    distance = get_distances_vec(trace, origin)\n",
    "    max_idx = distance.argmax()\n",
    "    return trace.loc[max_idx], distance.loc[max_idx]"
   ]
  },
  {
   "cell_type": "code",
   "execution_count": 52,
   "id": "1b85a510",
   "metadata": {},
   "outputs": [
    {
     "name": "stdout",
     "output_type": "stream",
     "text": [
      "\u001b[32m.\u001b[0m\u001b[32m                                                                                            [100%]\u001b[0m\n",
      "\u001b[32m\u001b[32m\u001b[1m1 passed\u001b[0m\u001b[32m in 2.95s\u001b[0m\u001b[0m\n"
     ]
    }
   ],
   "source": [
    "%%ipytest\n",
    "\n",
    "def test_get_farthest_vec():\n",
    "    assert get_farthest_vec(trace, origin)[0].equals(get_farthest(trace, origin)[0])\n",
    "    assert get_farthest_vec(trace, origin)[1] == approx(get_farthest(trace, origin)[1], abs=0.001)"
   ]
  },
  {
   "cell_type": "code",
   "execution_count": 55,
   "id": "7477982b",
   "metadata": {},
   "outputs": [
    {
     "name": "stdout",
     "output_type": "stream",
     "text": [
      "4.65 ms ± 462 μs per loop (mean ± std. dev. of 3 runs, 5 loops each)\n"
     ]
    }
   ],
   "source": [
    "%timeit -r3 -n5 get_farthest_vec(trace, origin)"
   ]
  },
  {
   "cell_type": "markdown",
   "id": "d1f1efbe",
   "metadata": {},
   "source": [
    "From ~1.48 s to ~4.65 ms. That's over 300 times faster! That's a huge improvement!"
   ]
  }
 ],
 "metadata": {
  "kernelspec": {
   "display_name": ".venv",
   "language": "python",
   "name": "python3"
  },
  "language_info": {
   "codemirror_mode": {
    "name": "ipython",
    "version": 3
   },
   "file_extension": ".py",
   "mimetype": "text/x-python",
   "name": "python",
   "nbconvert_exporter": "python",
   "pygments_lexer": "ipython3",
   "version": "3.10.5"
  }
 },
 "nbformat": 4,
 "nbformat_minor": 5
}
